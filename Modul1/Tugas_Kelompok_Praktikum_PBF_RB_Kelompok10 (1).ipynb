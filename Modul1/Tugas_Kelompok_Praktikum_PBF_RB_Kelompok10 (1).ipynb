{
  "nbformat": 4,
  "nbformat_minor": 0,
  "metadata": {
    "colab": {
      "provenance": []
    },
    "kernelspec": {
      "name": "python3",
      "display_name": "Python 3"
    },
    "language_info": {
      "name": "python"
    }
  },
  "cells": [
    {
      "cell_type": "markdown",
      "source": [
        "# buatlah fungsi komposisi dengan nilai f(x) = (4^x), g(x) = (x^x) dan h(x) = 3+x dengan pemrograman prosedural 3 fungsi dan pemrograman fungsional dengan lambda"
      ],
      "metadata": {
        "id": "h8NQ0EaN3nm7"
      }
    },
    {
      "cell_type": "code",
      "execution_count": null,
      "metadata": {
        "id": "2I2ZKmESn0S5",
        "colab": {
          "base_uri": "https://localhost:8080/"
        },
        "outputId": "fb91d749-eec3-4b71-ac42-a48477208dd2"
      },
      "outputs": [
        {
          "output_type": "stream",
          "name": "stdout",
          "text": [
            "Masukan nilai x : 2\n",
            "Hasil :  2738248761316017572742348936950010448551572158231779371511420498138539276297788309394191354517654433778305760249669055018654345038982960283040173260517312916290707801820674504366871632600804887963367337263522497825292336532140913808410030791539345419424032061850694542711196274001481398359789911818130649888463151791752429780547244641193312608638152999722631211840673827646616997262935164407810027909383249609045265422952174035491456768893888496923961830419221696465348280014055438553165447953246393547267908926735736893878246590624064523380774652728053757996417828938554196482295448971165496475437853387095634190399912509837356933670123261396478811191241421262493034193313021183420956181216717081868545513920021942580642796112558632389903266880666949210343989829365024474105599321362078321074638405091811240017997510533388875174033541343506776468179253992429037400216227010510981451940845736527038397421672469179155341784115474317896179501263356203326473302831475871635062518572068608761953174215709163510862454592893723775386427499438400294202336786154386609347634745375233076466505495806172092060594145963921181228307048477883816255817344716719634854129222601062360116788810639458446723330064225308353743906876465406644382408619382301724036817398756799298738170782278569658071633306237014715950374153723813558136622846483152909449741391381399776793638349889957165775278429275453407870615300019214044913567652886299492793737053811573216763858783936753122909415990826965860042906636995995036650971826579439450668265147929149343544753413556427163350892776854789102396987172517128962352485156201061670562094756205191570461642458688689506275096417062443317935980620073192797175444117282095687099957030761660644180614070821947348042170423675095783453097990299074095898225321797495260055964103872883081899874454355208544861277083817218702152903385728058864916087114646485217773956890624\n"
          ]
        }
      ],
      "source": [
        "#fungsi komposisi f(x)\n",
        "def f(x):\n",
        "    return 4 ** x\n",
        "\n",
        "#fungsi komposisi g(x)\n",
        "def g(x):\n",
        "    return x ** x\n",
        "\n",
        "#fungsi komposisi h(x)\n",
        "def h(x):\n",
        "    return 3 + x\n",
        "\n",
        "#fungsi prosedural\n",
        "def prosedural(x):\n",
        "    return f(g(h(x)))\n",
        "\n",
        "#meminta inputan x lalu menjalankan hasil prosedural\n",
        "hasil = int(input(\"Masukan nilai x : \"))\n",
        "print(\"Hasil : \", prosedural(hasil))"
      ]
    },
    {
      "cell_type": "markdown",
      "source": [
        " Kode di atas menunjukkan penggunaan kata kunci def untuk mendefinisikan fungsi f(x), g(x), dan h(x), serta persamaan matematika seperti 4^x, x^x, dan 3 + x.\n",
        "\n",
        "Fungsi-fungsi tersebut menunjukkan persamaan matematika yang berbeda, seperti f(x) untuk menghitung x pangkat 4, g(x) untuk menghitung x pangkat x, dan h(x) untuk menambahkan 3 ke nilai x."
      ],
      "metadata": {
        "id": "EX6Yg-gNovXX"
      }
    },
    {
      "cell_type": "code",
      "source": [
        "f = lambda x: 4 ** x #fungsi lambda f(x)\n",
        "g = lambda x: x ** x #fungsi lambda g(x)\n",
        "h = lambda x: 3 + x #fungsi lambda h(x)\n",
        "\n",
        "fungsi_lambda = lambda x: f(g(h(x))) #fungsi lambda\n",
        "\n",
        "#meminta inputan x lalu menjalankan hasil\n",
        "hasil = int(input(\"Masukan nilai x : \"))\n",
        "print(\"Hasil : \", fungsi_lambda(hasil))"
      ],
      "metadata": {
        "id": "0FpDq7OBqn8z",
        "colab": {
          "base_uri": "https://localhost:8080/"
        },
        "outputId": "8e884a7b-ceb7-468f-99bb-4bf4c7fdd74c"
      },
      "execution_count": null,
      "outputs": [
        {
          "output_type": "stream",
          "name": "stdout",
          "text": [
            "Masukan nilai x : 2\n",
            "Hasil :  2738248761316017572742348936950010448551572158231779371511420498138539276297788309394191354517654433778305760249669055018654345038982960283040173260517312916290707801820674504366871632600804887963367337263522497825292336532140913808410030791539345419424032061850694542711196274001481398359789911818130649888463151791752429780547244641193312608638152999722631211840673827646616997262935164407810027909383249609045265422952174035491456768893888496923961830419221696465348280014055438553165447953246393547267908926735736893878246590624064523380774652728053757996417828938554196482295448971165496475437853387095634190399912509837356933670123261396478811191241421262493034193313021183420956181216717081868545513920021942580642796112558632389903266880666949210343989829365024474105599321362078321074638405091811240017997510533388875174033541343506776468179253992429037400216227010510981451940845736527038397421672469179155341784115474317896179501263356203326473302831475871635062518572068608761953174215709163510862454592893723775386427499438400294202336786154386609347634745375233076466505495806172092060594145963921181228307048477883816255817344716719634854129222601062360116788810639458446723330064225308353743906876465406644382408619382301724036817398756799298738170782278569658071633306237014715950374153723813558136622846483152909449741391381399776793638349889957165775278429275453407870615300019214044913567652886299492793737053811573216763858783936753122909415990826965860042906636995995036650971826579439450668265147929149343544753413556427163350892776854789102396987172517128962352485156201061670562094756205191570461642458688689506275096417062443317935980620073192797175444117282095687099957030761660644180614070821947348042170423675095783453097990299074095898225321797495260055964103872883081899874454355208544861277083817218702152903385728058864916087114646485217773956890624\n"
          ]
        }
      ]
    },
    {
      "cell_type": "markdown",
      "source": [
        "**Pemrograman fungsional** (fungsi lambda) merupakan metode di mana fungsi lambda digunakan untuk mendefinisikan suatu fungsi. Dalam konteks ini, tidak perlu menggunakan pernyataan return, dan pengimplementasian fungsi ini bersifat singkat, hanya memerlukan beberapa baris kode dibandingkan dengan pemrograman prosedural."
      ],
      "metadata": {
        "id": "tvXcV-DYqs1R"
      }
    },
    {
      "cell_type": "markdown",
      "source": [
        "# 2. Pemrograman Berbasis Objek"
      ],
      "metadata": {
        "id": "SBz_bvDUqyac"
      }
    },
    {
      "cell_type": "code",
      "source": [
        "#kelas untuk fungsi komposisi menggunakan OOP\n",
        "class FungsiKomposisi:\n",
        "    def __init__(self):\n",
        "        pass\n",
        "\n",
        "    def f(self, x): #fungsi komposisi f(x)\n",
        "        return 4 ** x\n",
        "\n",
        "    def g(self, x): #fungsi komposisi g(x)\n",
        "        return x ** x\n",
        "\n",
        "    def h(self, x): #fungsi komposisi h(x)\n",
        "        return 3 + x\n",
        "\n",
        "    def prosedural(x): #fungsi prosedural\n",
        "      return f(g(h(x)))\n",
        "\n",
        "#meminta inputan x lalu menjalankan hasil prosedural\n",
        "hasil = int(input(\"Masukan nilai x : \"))\n",
        "print(\"Hasil : \", prosedural(hasil))"
      ],
      "metadata": {
        "id": "qTcD_GTPqrrS",
        "colab": {
          "base_uri": "https://localhost:8080/"
        },
        "outputId": "8f03d64d-5ac1-4822-e080-e3bf32c11b31"
      },
      "execution_count": null,
      "outputs": [
        {
          "output_type": "stream",
          "name": "stdout",
          "text": [
            "Masukan nilai x : 2\n",
            "Hasil :  2738248761316017572742348936950010448551572158231779371511420498138539276297788309394191354517654433778305760249669055018654345038982960283040173260517312916290707801820674504366871632600804887963367337263522497825292336532140913808410030791539345419424032061850694542711196274001481398359789911818130649888463151791752429780547244641193312608638152999722631211840673827646616997262935164407810027909383249609045265422952174035491456768893888496923961830419221696465348280014055438553165447953246393547267908926735736893878246590624064523380774652728053757996417828938554196482295448971165496475437853387095634190399912509837356933670123261396478811191241421262493034193313021183420956181216717081868545513920021942580642796112558632389903266880666949210343989829365024474105599321362078321074638405091811240017997510533388875174033541343506776468179253992429037400216227010510981451940845736527038397421672469179155341784115474317896179501263356203326473302831475871635062518572068608761953174215709163510862454592893723775386427499438400294202336786154386609347634745375233076466505495806172092060594145963921181228307048477883816255817344716719634854129222601062360116788810639458446723330064225308353743906876465406644382408619382301724036817398756799298738170782278569658071633306237014715950374153723813558136622846483152909449741391381399776793638349889957165775278429275453407870615300019214044913567652886299492793737053811573216763858783936753122909415990826965860042906636995995036650971826579439450668265147929149343544753413556427163350892776854789102396987172517128962352485156201061670562094756205191570461642458688689506275096417062443317935980620073192797175444117282095687099957030761660644180614070821947348042170423675095783453097990299074095898225321797495260055964103872883081899874454355208544861277083817218702152903385728058864916087114646485217773956890624\n"
          ]
        }
      ]
    },
    {
      "cell_type": "markdown",
      "source": [
        "Implementasi di atas mencakup kelas Python bernama CompositionFunctions yang memuat tiga fungsi: f, g, dan h. Setiap fungsi ini menerima parameter x dan menghasilkan nilai berdasarkan rumus tertentu.\n",
        "\n",
        "Deklarasi Kelas (CompositionFunctions):\n",
        "Kelas ini memiliki tiga fungsi, yakni f, g, dan h.\n",
        "Fungsi __init__ berfungsi sebagai konstruktor tetapi tidak melakukan apa pun dalam contoh ini.\n",
        "\n",
        "Fungsi f(x):\n",
        "Ini adalah fungsi eksponensial dengan rumus 4^x.\n",
        "Parameter x digunakan sebagai input, dan fungsi ini mengembalikan nilai dari 4^x.\n",
        "\n",
        "Fungsi g(x):\n",
        "Merupakan fungsi pangkat dengan rumus x^x.\n",
        "Parameter x adalah input, dan fungsi ini mengembalikan nilai dari x^x.\n",
        "\n",
        "Fungsi h(x):\n",
        "Merupakan fungsi penjumlahan dengan rumus 3+x.\n",
        "Parameter x digunakan sebagai input, dan fungsi ini mengembalikan hasil dari 3+x."
      ],
      "metadata": {
        "id": "4lZp0AgUq5TO"
      }
    },
    {
      "cell_type": "markdown",
      "source": [
        "# 3.Analisis Komparasi soal 1 dan 2"
      ],
      "metadata": {
        "id": "TqoKF3T7q8g_"
      }
    },
    {
      "cell_type": "markdown",
      "source": [
        "# berikan analisis komparasi pada 2 soal sebelumnya"
      ],
      "metadata": {
        "id": "jWmfJOyJJM92"
      }
    },
    {
      "cell_type": "markdown",
      "source": [
        "Pada hasil analisis dengan membandingkan pemrograman fungsional dan pemrograman berorientasi objek, jika pemrograman fungsional lebih efisien dalam penggunaan blok kode sehingga memori yang digunakan akan lebih hemat jika dibandingkan pemrograman berorientasi objek, namun pemrograman berorientasi objek meiliki struktur kode yang lebih terstruktur sehingga pengguna akan lebih mudah memahami kode dari pemrograman berorientasi objek."
      ],
      "metadata": {
        "id": "CGH_l2o8q_yw"
      }
    },
    {
      "cell_type": "markdown",
      "source": [
        "# 4. Penyelesaian Luas Segitiga"
      ],
      "metadata": {
        "id": "wjdfMvN5rC0Q"
      }
    },
    {
      "cell_type": "markdown",
      "source": [
        "# buatlah 1 penyelesaian luas segitiga dengan menggunakan pemrograman berorientasi objek dan pemrograman berbasis fungsi. uji dengan membandingkan mana yang tercepat komputasinya"
      ],
      "metadata": {
        "id": "tUxKqnnuJbGs"
      }
    },
    {
      "cell_type": "code",
      "source": [
        "#kelas untuk fungsi komposisi menggunakan OOP\n",
        "class Segitiga:\n",
        "    def __init__(self, alas, tinggi):\n",
        "        self.alas = alas\n",
        "        self.tinggi = tinggi\n",
        "\n",
        "    def hitung_luas(self): #fungsi menghitung luas segitiga\n",
        "        return 0.5 * self.alas * self.tinggi\n",
        "\n",
        "alas = int(input(\"Masukkan alas : \")) #variabel meminta inputan pengguna\n",
        "tinggi = int(input(\"Masukkan tinggi : \")) #variabel meminta inputan pengguna\n",
        "\n",
        "print(\"Luas segitiga : \", luas_segitiga(alas, tinggi)) #menjalankan hasil dari fungsi luas segitiga"
      ],
      "metadata": {
        "id": "AilQPMTGrDy1",
        "colab": {
          "base_uri": "https://localhost:8080/"
        },
        "outputId": "c16bc489-707c-46d8-c944-aaa021a7da92"
      },
      "execution_count": null,
      "outputs": [
        {
          "output_type": "stream",
          "name": "stdout",
          "text": [
            "Masukkan alas : 3\n",
            "Masukkan tinggi : 4\n",
            "Luas segitiga :  6.0\n"
          ]
        }
      ]
    },
    {
      "cell_type": "markdown",
      "source": [
        "Deklarasi Kelas (Segitiga):\n",
        "\n",
        "Kelas ini mempunyai dua properti, yaitu panjang alas dan tinggi. Fungsi __init__ berperan sebagai konstruktor yang digunakan untuk mengatur nilai awal objek. Dalam contoh ini, objek Segitiga akan memiliki properti panjang alas dan tinggi setelah dibuat.\n",
        "\n",
        "Metode luas(self):\n",
        "Merupakan suatu metode (fungsi) yang menghitung luas segitiga berdasarkan formula\n",
        "luas = 1/2 * panjang alas * tinggi.\n",
        "Metode ini memanfaatkan properti panjang alas dan tinggi yang telah diinisialisasi sebelumnya."
      ],
      "metadata": {
        "id": "MhA_i5G3rI3h"
      }
    },
    {
      "cell_type": "code",
      "source": [
        "def luas_segitiga(alas, tinggi): #fungsi menghitung luas segitiga\n",
        "    return 0.5 * alas * tinggi\n",
        "\n",
        "alas = int(input(\"Masukkan alas : \")) #variabel meminta inputan pengguna\n",
        "tinggi = int(input(\"Masukkan tinggi : \")) #variabel meminta inputan pengguna\n",
        "\n",
        "print(\"Luas segitiga : \", luas_segitiga(alas, tinggi)) #menjalankan hasil dari fungsi luas segitiga"
      ],
      "metadata": {
        "id": "m_jUuNXPrL6R",
        "colab": {
          "base_uri": "https://localhost:8080/"
        },
        "outputId": "aab001a3-672e-4df3-956c-af90e5c586a5"
      },
      "execution_count": null,
      "outputs": [
        {
          "output_type": "stream",
          "name": "stdout",
          "text": [
            "Masukkan alas : 3\n",
            "Masukkan tinggi : 4\n",
            "Luas segitiga :  6.0\n"
          ]
        }
      ]
    },
    {
      "cell_type": "code",
      "source": [
        "import timeit #mengimport modul timeit\n",
        "\n",
        "#penyelesaian luas segitiga menggunakan OOP\n",
        "setup_objek = '''\n",
        "class Segitiga:\n",
        "    def __init__(self, alas, tinggi):\n",
        "        self.alas = alas\n",
        "        self.tinggi = tinggi\n",
        "\n",
        "    def luas(self):\n",
        "        return 0.5 * self.alas * self.tinggi\n",
        "\n",
        "segitiga_objek = Segitiga(2, 3)\n",
        "'''\n",
        "\n",
        "time_objek = timeit.timeit('segitiga_objek.luas()', setup=setup_objek, number=1000000) #menghitung waktu untuk menjalankan kode\n",
        "\n",
        "#penyelesaian luas segitiga menggunakan PBF\n",
        "setup_fungsi = '''\n",
        "def luas_segitiga(alas, tinggi):\n",
        "    return 0.5 * alas * tinggi\n",
        "'''\n",
        "\n",
        "time_fungsi = timeit.timeit('luas_segitiga(2, 3)', setup=setup_fungsi, number=1000000) #menghitung waktu untuk menjalankan kode\n",
        "\n",
        "print(\"Waktu komputasi untuk pendekatan berbasis objek:\", time_objek) #memanggil hasil perhitungan waktu menjalankan kode\n",
        "print(\"Waktu komputasi untuk pendekatan berbasis fungsi:\", time_fungsi) #memanggil hasil perhitungan waktu menjalankan kode\n"
      ],
      "metadata": {
        "colab": {
          "base_uri": "https://localhost:8080/"
        },
        "id": "MSdxz8lm67RQ",
        "outputId": "dc0f1e49-3f37-4009-aae3-af023dde814b"
      },
      "execution_count": null,
      "outputs": [
        {
          "output_type": "stream",
          "name": "stdout",
          "text": [
            "Waktu komputasi untuk pendekatan berbasis objek: 0.18832465500008766\n",
            "Waktu komputasi untuk pendekatan berbasis fungsi: 0.14458113499995306\n"
          ]
        }
      ]
    },
    {
      "cell_type": "markdown",
      "source": [
        "Mirip dengan contoh sebelumnya, perbedaannya terletak pada pemrograman berbasis fungsi di mana kode dapat lebih ringkas dan lebih efisien secara kinerja."
      ],
      "metadata": {
        "id": "T3aKd3GOrORM"
      }
    },
    {
      "cell_type": "markdown",
      "source": [
        "# 5. Penyelesaian Algoritma Metode Bisection"
      ],
      "metadata": {
        "id": "lAuEbEYHrQ7V"
      }
    },
    {
      "cell_type": "markdown",
      "source": [
        "# Diberikan Algoritma Metode Bisection"
      ],
      "metadata": {
        "id": "r0oVYWtirUgE"
      }
    },
    {
      "cell_type": "code",
      "source": [
        "#funsi menggunakan metode bisection\n",
        "def metode_bisection(f, x0, x1, tolerance):\n",
        "    \"\"\"\n",
        "    Implementasi metode bisection untuk mencari akar dari fungsi f(x) di antara x0 dan x1\n",
        "    dengan toleransi error tertentu.\n",
        "\n",
        "    Args:\n",
        "    - f: fungsi f(x) yang akan dicari akarnya\n",
        "    - x0, x1: tebakan awal yang memenuhi f(x0)*f(x1) < 0\n",
        "    - tolerance: toleransi error yang diinginkan\n",
        "\n",
        "    Returns:\n",
        "    - root: akar dari fungsi f(x) yang ditemukan\n",
        "    \"\"\"\n",
        "\n",
        "    assert f(x0) * f(x1) < 0, \"Initial guesses do not bracket the root\" #mengecek apakah tebakan awal memenuhi syarat f(x0)*f(x1) < 0\n",
        "\n",
        "    # Inisialisasi nilai tengah dan iterasi\n",
        "    x2 = (x0 + x1) / 2\n",
        "    iteration = 0\n",
        "\n",
        "    # Loop sampai toleransi terpenuhi atau iterasi maksimum tercapai\n",
        "    while abs(f(x2)) > tolerance:\n",
        "        # Mengecek tanda dari f(x0)*f(x2)\n",
        "        if f(x0) * f(x2) < 0:\n",
        "            x1 = x2\n",
        "        elif f(x0) * f(x2) > 0:\n",
        "            x0 = x2\n",
        "        else:\n",
        "            break  # Jika f(x0)*f(x2) == 0, akar sudah ditemukan\n",
        "\n",
        "        x2 = (x0 + x1) / 2  #menghitung nilai tengah baru\n",
        "\n",
        "        iteration += 1 #menambah iterasi\n",
        "\n",
        "    return x2 #mengembalikan nilai\n",
        "\n",
        "def f(x): #fungsi dengan implementasinya\n",
        "    return x**2 - 4\n",
        "\n",
        "x0 = 0\n",
        "x1 = 3\n",
        "\n",
        "tolerance = 1e-6 #toleransi error\n",
        "\n",
        "#memanggil fungsi dan menjalankan dengan output hasil dari metode bisection\n",
        "root = metode_bisection(f, x0, x1, tolerance)\n",
        "print(\"Akar yang ditemukan:\", root)"
      ],
      "metadata": {
        "id": "P_fCoU1_rVnf",
        "colab": {
          "base_uri": "https://localhost:8080/"
        },
        "outputId": "724368ea-660d-4998-e401-e14848a50338"
      },
      "execution_count": null,
      "outputs": [
        {
          "output_type": "stream",
          "name": "stdout",
          "text": [
            "Akar yang ditemukan: 2.000000238418579\n"
          ]
        }
      ]
    }
  ]
}
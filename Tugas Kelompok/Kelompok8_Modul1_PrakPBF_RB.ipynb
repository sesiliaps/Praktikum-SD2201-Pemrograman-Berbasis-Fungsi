{
  "cells": [
    {
      "cell_type": "markdown",
      "source": [
        "# Tugas Kelompok Modul 1\n",
        "**Nama Anggota Kelompok 8:**\n",
        "1. Arafi Ramadhan Maulana - 122450004\n",
        "2. Dwi Ratna Anggraeni - 122450008\n",
        "3. Raid Muhammad Naufal - 122450027\n",
        "4. Rayan Koemi Karuby - 122450038\n",
        "5. M. Deriansyah Okutra - 1224500  \n",
        "\n"
      ],
      "metadata": {
        "id": "Q-APIHQdCsBZ"
      }
    },
    {
      "cell_type": "markdown",
      "metadata": {
        "id": "EnuhOF4p5yRh"
      },
      "source": [
        "## 1. Buatlah fungsi komposisi dengan nilai f(x) = 4^x, g(x) = x^x, dan h(x) = 3 + x dengan pemrograman prosedural tiga fungsi dan pemrograman fungsional dengan lambda.\n",
        "\n"
      ]
    },
    {
      "cell_type": "markdown",
      "source": [
        "### Pemrograman Prosedural"
      ],
      "metadata": {
        "id": "7oP-uQYsHwQi"
      }
    },
    {
      "cell_type": "code",
      "execution_count": 39,
      "metadata": {
        "colab": {
          "base_uri": "https://localhost:8080/"
        },
        "id": "1QEdCeDeqerD",
        "outputId": "85d43659-47aa-4382-af8b-9fb9a9f84405"
      },
      "outputs": [
        {
          "output_type": "stream",
          "name": "stdout",
          "text": [
            "Hasil dari fungsi h(g(f(1))) = 259\n",
            "Waktu : 0.0000894070 detik\n"
          ]
        }
      ],
      "source": [
        "import time\n",
        "\n",
        "def f(x):\n",
        "  return 4 ** x\n",
        "\n",
        "def g(x):\n",
        "  return x ** x\n",
        "\n",
        "def h(x):\n",
        "  return 3 + x\n",
        "\n",
        "start_time = time.time()\n",
        "\n",
        "x = 1\n",
        "fungsi_komposisi = h(g(f(x)))\n",
        "\n",
        "end_time = time.time()\n",
        "\n",
        "waktu = end_time - start_time\n",
        "\n",
        "print(f\"Hasil dari fungsi h(g(f({x}))) = {fungsi_komposisi}\")\n",
        "print(f\"Waktu : {waktu:.10f} detik\")"
      ]
    },
    {
      "cell_type": "markdown",
      "source": [
        "### Pemrograman Fungsional (Lambda)"
      ],
      "metadata": {
        "id": "xEWsUgC7JcZt"
      }
    },
    {
      "cell_type": "code",
      "execution_count": 35,
      "metadata": {
        "colab": {
          "base_uri": "https://localhost:8080/"
        },
        "id": "uyzy1DqOrxRu",
        "outputId": "b3939745-d0e3-4646-d73e-4f3a466ec4c8"
      },
      "outputs": [
        {
          "output_type": "stream",
          "name": "stdout",
          "text": [
            "Hasil dari fungsi h(g(f(1))) = 259\n",
            "Waktu : 0.0000743866 detik\n"
          ]
        }
      ],
      "source": [
        "import time\n",
        "\n",
        "f = lambda x: 4 ** x\n",
        "g = lambda x: x ** x\n",
        "h = lambda x: 3 + x\n",
        "\n",
        "start_time = time.time()\n",
        "\n",
        "x = 1\n",
        "fungsi_komposisi = h(g(f(x)))\n",
        "\n",
        "end_time = time.time()\n",
        "\n",
        "waktu = end_time - start_time\n",
        "\n",
        "print(f\"Hasil dari fungsi h(g(f({x}))) = {fungsi_komposisi}\")\n",
        "print(f\"Waktu : {waktu:.10f} detik\")"
      ]
    },
    {
      "cell_type": "markdown",
      "metadata": {
        "id": "v9yp3RhO5yRk"
      },
      "source": [
        "## 2. Buatlah pemrograman berbasis objek pada soal 1"
      ]
    },
    {
      "cell_type": "code",
      "execution_count": 33,
      "metadata": {
        "colab": {
          "base_uri": "https://localhost:8080/"
        },
        "id": "MlA-1avvsABd",
        "outputId": "81fdc09c-61c3-44c4-b1d0-bdf59bfcdb03"
      },
      "outputs": [
        {
          "output_type": "stream",
          "name": "stdout",
          "text": [
            "Hasil dari fungsi h(g(f(1))) = 259\n",
            "Waktu : 0.0001111031 detik\n"
          ]
        }
      ],
      "source": [
        "class Fungsi:\n",
        "  def __init__(self, persamaan):\n",
        "    self.persamaan = persamaan\n",
        "\n",
        "  def __call__(self, x):\n",
        "    return eval(self.persamaan, {\"x\": x})\n",
        "\n",
        "f = Fungsi(\"4 ** x\")\n",
        "g = Fungsi(\"x ** x\")\n",
        "h = Fungsi(\"3 + x\")\n",
        "\n",
        "start_time = time.time()\n",
        "\n",
        "x = 1\n",
        "fungsi_komposisi = h(g(f(x)))\n",
        "\n",
        "end_time = time.time()\n",
        "\n",
        "waktu = end_time - start_time\n",
        "\n",
        "print(f\"Hasil dari fungsi h(g(f({x}))) = {fungsi_komposisi}\")\n",
        "print(f\"Waktu : {waktu:.10f} detik\")"
      ]
    },
    {
      "cell_type": "markdown",
      "metadata": {
        "id": "vR41rVis5yRl"
      },
      "source": [
        "## 3. Berikan analisis komparasi soal 1 dan 2"
      ]
    },
    {
      "cell_type": "markdown",
      "metadata": {
        "id": "iapC2lwA5yRl"
      },
      "source": [
        "Dengan menggunakan library time maka dapat diketahui perbandingan antara pemrograman prosedural, pemrograman fungsional, dan pemrogarman berbasis objek memiliki selisih waktu yang tidak berbeda jauh dan selalu berubah-ubah (tidak tepat) dengan yang tercepat adalah pemrograman fungsional (0.0000743866 detik) lalu pemrograman prosedural (0.0000894070 detik) dan pemrograman berbasis objek (0.0001111031 detik)."
      ]
    },
    {
      "cell_type": "markdown",
      "source": [
        "## 4. Buatlah satu penyelesaian Luas Segitiga dengan menggunakan pemrograman berorientasi objek dan pemrograman berbasis fungsi. Uji dengan membandingkan mana yang tercepat komputasinya."
      ],
      "metadata": {
        "id": "mFmKuH1rOZFX"
      }
    },
    {
      "cell_type": "markdown",
      "source": [
        "### Pemrograman Berorientasi Objek"
      ],
      "metadata": {
        "id": "nGYOQKUdPJmE"
      }
    },
    {
      "cell_type": "code",
      "execution_count": 45,
      "metadata": {
        "colab": {
          "base_uri": "https://localhost:8080/"
        },
        "id": "LQ_4dlYz5yRm",
        "outputId": "c5e87007-f2fe-4447-9c4f-e865de225686"
      },
      "outputs": [
        {
          "output_type": "stream",
          "name": "stdout",
          "text": [
            "Luas Segitiga = 80.0\n",
            "Waktu : 0.0001637936 detik\n"
          ]
        }
      ],
      "source": [
        "import time\n",
        "\n",
        "class Segitiga:\n",
        "  def __init__(self, alas, tinggi):\n",
        "    self.alas = alas\n",
        "    self.tinggi = tinggi\n",
        "\n",
        "  def luas(self):\n",
        "    return 0.5 * self.alas * self.tinggi\n",
        "\n",
        "start_time = time.time()\n",
        "\n",
        "alas = 10\n",
        "tinggi = 16\n",
        "segitiga = Segitiga(alas, tinggi)\n",
        "luas_segitiga = segitiga.luas()\n",
        "\n",
        "end_time = time.time()\n",
        "\n",
        "waktu = end_time - start_time\n",
        "\n",
        "print(f\"Luas Segitiga = {luas_segitiga}\")\n",
        "print(f\"Waktu : {waktu:.10f} detik\")"
      ]
    },
    {
      "cell_type": "markdown",
      "source": [
        "### Pemrograman Berbasis Fungsi"
      ],
      "metadata": {
        "id": "xn5UXUA6PPHu"
      }
    },
    {
      "cell_type": "code",
      "execution_count": 53,
      "metadata": {
        "colab": {
          "base_uri": "https://localhost:8080/"
        },
        "id": "nDq3FSwf5yRm",
        "outputId": "159afe6c-0232-4ada-e555-12ec097f5258"
      },
      "outputs": [
        {
          "output_type": "stream",
          "name": "stdout",
          "text": [
            "Luas Segitiga = 80.0\n",
            "Waktu : 0.0001423359 detik\n"
          ]
        }
      ],
      "source": [
        "import time\n",
        "\n",
        "def luas_segitiga(alas, tinggi):\n",
        "    return 0.5 * alas * tinggi\n",
        "\n",
        "start_time = time.time()\n",
        "\n",
        "alas = 10\n",
        "tinggi = 16\n",
        "luas = luas_segitiga(alas, tinggi)\n",
        "\n",
        "end_time = time.time()\n",
        "\n",
        "waktu = end_time - start_time\n",
        "\n",
        "print(f\"Luas Segitiga = {luas}\")\n",
        "print(f\"Waktu : {waktu:.10f} detik\")"
      ]
    },
    {
      "cell_type": "markdown",
      "source": [
        "Dengan menggunakan library time maka dapat diketahui perbandingan antara pemrogarman berorientasi objek dan pemrograman fungsional memiliki selisih waktu yang tidak berbeda jauh dan selalu berubah-ubah (tidak tepat) dengan yang tercepat adalah pemrograman berbasis fungsi (0.0001423359 detik) dan pemrograman berorientasi objek (0.0001637936 detik)."
      ],
      "metadata": {
        "id": "B6bV8vvtRmgv"
      }
    },
    {
      "cell_type": "markdown",
      "source": [
        "## 5. Diberikan Algoritma Metode Bisection berikut:\n",
        "1. Start\n",
        "2. Define function f(x)\n",
        "3. Choose initial guesses x0 and x1 such that f(x0)f(x1) < 0\n",
        "4. Choose pre-specified tolarabe error e\n",
        "5. Calculate new approximated root as x2 = (x0 + x1)/2\n",
        "6. Calculate f(x0)f(x2)\\\n",
        "    a. if f(x0)f(x2) < 0 then x0 = x0 and x1 = x2\\\n",
        "    b. if f(x0)f(x2) > 0 then x0 = x2 and x1 = x1\\\n",
        "    c. if f(x0)f(x2) = 0 then go to (8)\n",
        "7. if |f(x2)| > e then go to (5) otherwise go to (8)\n",
        "8. Display x2 as root\n",
        "9. Stop\n",
        "\n",
        "Buatlah prosedural programming dari persoalan di atas dan ubahlah dengan functional programming. Lakukan dengan batas toleransi 10^-5. Dengan fungsi yang diberikan sebagai berikut: x - 2^x\n",
        "dan nilai a dan b adalah di antara 0 dan 1 (nilai antara tidak boleh 0 dan 1)."
      ],
      "metadata": {
        "id": "3ugojOCGSITm"
      }
    },
    {
      "cell_type": "markdown",
      "source": [
        "### Prosedural Programming"
      ],
      "metadata": {
        "id": "V7AOTD9JX4RG"
      }
    },
    {
      "cell_type": "code",
      "execution_count": 70,
      "metadata": {
        "colab": {
          "base_uri": "https://localhost:8080/"
        },
        "id": "tN3hxBQz5yRm",
        "outputId": "dfbf96e2-0ab9-4099-a5f1-402f3439f5b2"
      },
      "outputs": [
        {
          "output_type": "stream",
          "name": "stdout",
          "text": [
            "Tidak ada akar yang berada di antara x0 dan x1\n",
            "None\n"
          ]
        }
      ],
      "source": [
        "def f(x):\n",
        "    return x - 2 ** x\n",
        "\n",
        "def bisection_method(f, x0, x1, tol):\n",
        "    if f(x0) * f(x1) > 0:\n",
        "      print(\"Tidak ada akar yang berada di antara x0 dan x1\")\n",
        "      return None\n",
        "\n",
        "    x2 = (x0 + x1) / 2\n",
        "    while abs(x2) < tol:\n",
        "        if  f(x0) * f(x2) < 0:\n",
        "            x1 = x2\n",
        "        elif f(x0) * f(x2) > 0:\n",
        "            x0 = x2\n",
        "        else:\n",
        "          return x2\n",
        "    return x2\n",
        "\n",
        "x0 = 0.000001\n",
        "x1 = 0.999999\n",
        "tol = 10 ** -5\n",
        "bisection = bisection_method(f, x0, x1, tol)\n",
        "print(bisection)"
      ]
    },
    {
      "cell_type": "markdown",
      "source": [
        "### Functional Programming"
      ],
      "metadata": {
        "id": "6TZoALGvcLlp"
      }
    },
    {
      "cell_type": "code",
      "source": [
        "bisection = (lambda f, x0, x1, tol:\n",
        "    (lambda x0, x1:\n",
        "        (lambda x2:\n",
        "            x2 if abs(f(x2)) < tol else\n",
        "            x0 if f(x0) * f(x2) < 0 else\n",
        "            x1 if f(x0) * f(x2) > 0 else\n",
        "            x2)(\n",
        "            (x0 + x1) / 2\n",
        "        )\n",
        "    )(x0, x1) if f(x0) * f(x1) < 0 else (\n",
        "        print(\"Tidak ada akar yang berada di antara x0 dan x1.\") or None\n",
        "    )\n",
        ")\n",
        "\n",
        "f = lambda x: x**3 - x - 2\n",
        "x0 = 0.000001\n",
        "x1 = 0.999999\n",
        "tol = 10 ** -5\n",
        "bisection = bisection(f, x0, x1, tol)\n",
        "print(bisection)"
      ],
      "metadata": {
        "colab": {
          "base_uri": "https://localhost:8080/"
        },
        "id": "ABjgEfx3cdJv",
        "outputId": "d4395490-7d99-4ebf-d8a3-c11b08d479c2"
      },
      "execution_count": 78,
      "outputs": [
        {
          "output_type": "stream",
          "name": "stdout",
          "text": [
            "Tidak ada akar yang berada di antara x0 dan x1.\n",
            "None\n"
          ]
        }
      ]
    }
  ],
  "metadata": {
    "colab": {
      "provenance": []
    },
    "kernelspec": {
      "display_name": "Python 3",
      "name": "python3"
    },
    "language_info": {
      "codemirror_mode": {
        "name": "ipython",
        "version": 3
      },
      "file_extension": ".py",
      "mimetype": "text/x-python",
      "name": "python",
      "nbconvert_exporter": "python",
      "pygments_lexer": "ipython3",
      "version": "3.11.4"
    }
  },
  "nbformat": 4,
  "nbformat_minor": 0
}
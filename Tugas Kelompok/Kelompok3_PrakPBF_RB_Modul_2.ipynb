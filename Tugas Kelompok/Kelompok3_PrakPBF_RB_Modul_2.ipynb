{
  "nbformat": 4,
  "nbformat_minor": 0,
  "metadata": {
    "colab": {
      "provenance": []
    },
    "kernelspec": {
      "name": "python3",
      "display_name": "Python 3"
    },
    "language_info": {
      "name": "python"
    }
  },
  "cells": [
    {
      "cell_type": "markdown",
      "source": [
        "#**TUGAS KELOMPOK PRAKTIKUM PBF RB**"
      ],
      "metadata": {
        "id": "jjVYRbZ3NtGs"
      }
    },
    {
      "cell_type": "markdown",
      "source": [
        "##**Kelompok 3 Praktikum PBF RB**\n",
        "Anggota Kelompok :\n",
        "1. Deva Anjani Khayyuninafsyah (122450014)\n",
        "2. Nabiilah Putri Karnaia (122450029)\n",
        "3. Chevando Daffa Pramanda (122450095)\n",
        "4. Novelia Adinda (122450104)\n",
        "5. Rafly Prabu Darmawan (122450140)"
      ],
      "metadata": {
        "id": "L4kp13DTNs8I"
      }
    },
    {
      "cell_type": "markdown",
      "source": [
        "#**Aplikasi Pembersih Data**\n",
        "Gunakan kombinasi map dan lambda untuk membersihkan data, seperti menghapus spasi berlebih, mengonversi teks menjadi huruf kecil, atau menghilangkan karakter non-alfanumerik."
      ],
      "metadata": {
        "id": "NC2ba1KUNxlr"
      }
    },
    {
      "cell_type": "markdown",
      "source": [
        "##**Menghapus Spasi Berlebih**"
      ],
      "metadata": {
        "id": "NMRn5JLuSuAO"
      }
    },
    {
      "cell_type": "code",
      "source": [
        "spasi_berlebih = lambda data: list(map(lambda x: ' '.join(x.split()), data))\n",
        "\n",
        "# inputan data\n",
        "my_data = [\" ITERA \", \"  Friends!\", \"Angkatan  2022  \", \"Semangat terus,  ya!\"]\n",
        "\n",
        "# membersihkan data\n",
        "data_bersih = spasi_berlebih(my_data)\n",
        "\n",
        "# output\n",
        "print(\"Data sebelum dibersihkan:\")\n",
        "for x in my_data:\n",
        "  print(x)\n",
        "print(\"\\nData setelah dibersihkan:\")\n",
        "for x in data_bersih:\n",
        "  print(x)"
      ],
      "metadata": {
        "colab": {
          "base_uri": "https://localhost:8080/"
        },
        "id": "UUG1RdkvStmV",
        "outputId": "004faa4c-1ade-4c98-fb01-2edc7be6007b"
      },
      "execution_count": 1,
      "outputs": [
        {
          "output_type": "stream",
          "name": "stdout",
          "text": [
            "Data sebelum dibersihkan:\n",
            " ITERA \n",
            "  Friends!\n",
            "Angkatan  2022  \n",
            "Semangat terus,  ya!\n",
            "\n",
            "Data setelah dibersihkan:\n",
            "ITERA\n",
            "Friends!\n",
            "Angkatan 2022\n",
            "Semangat terus, ya!\n"
          ]
        }
      ]
    },
    {
      "cell_type": "markdown",
      "source": [
        "##**Mengonversi Teks Menjadi Huruf Kecil**"
      ],
      "metadata": {
        "id": "5mgI7wi0S4o2"
      }
    },
    {
      "cell_type": "code",
      "source": [
        "konversi_kecil = lambda data: list(map(lambda x: x.lower(), data))\n",
        "\n",
        "# inputan data\n",
        "my_data = [\"ITERA\", \"Friends!\", \"Angkatan 2022\", \"Semangat terus, ya!\"]\n",
        "\n",
        "# membersihkan data\n",
        "data_bersih = konversi_kecil(my_data)\n",
        "\n",
        "# output\n",
        "print(\"Data sebelum dibersihkan:\")\n",
        "for x in my_data:\n",
        "  print(x)\n",
        "print(\"\\nData setelah dibersihkan:\")\n",
        "for x in data_bersih:\n",
        "  print(x)"
      ],
      "metadata": {
        "colab": {
          "base_uri": "https://localhost:8080/"
        },
        "id": "s2JN66oGS2as",
        "outputId": "06dba39e-4b98-4661-b3a3-0fd38fd5e892"
      },
      "execution_count": 2,
      "outputs": [
        {
          "output_type": "stream",
          "name": "stdout",
          "text": [
            "Data sebelum dibersihkan:\n",
            "ITERA\n",
            "Friends!\n",
            "Angkatan 2022\n",
            "Semangat terus, ya!\n",
            "\n",
            "Data setelah dibersihkan:\n",
            "itera\n",
            "friends!\n",
            "angkatan 2022\n",
            "semangat terus, ya!\n"
          ]
        }
      ]
    },
    {
      "cell_type": "markdown",
      "source": [
        "##**Mengonversi Teks Menjadi Huruf Besar**\n"
      ],
      "metadata": {
        "id": "3g4yMOHEfk-H"
      }
    },
    {
      "cell_type": "code",
      "source": [
        "konversi_besar = lambda data: list(map(lambda x: x.upper(), data))\n",
        "\n",
        "# inputan data\n",
        "my_data = [\"ITERA\", \"Friends!\", \"Angkatan 2022\", \"Semangat terus, ya!\"]\n",
        "\n",
        "# membersihkan data\n",
        "data_bersih = konversi_besar(my_data)\n",
        "\n",
        "# output\n",
        "print(\"Data sebelum dibersihkan:\")\n",
        "for x in my_data:\n",
        "  print(x)\n",
        "print(\"\\nData setelah dibersihkan:\")\n",
        "for x in data_bersih:\n",
        "  print(x)"
      ],
      "metadata": {
        "colab": {
          "base_uri": "https://localhost:8080/"
        },
        "id": "Hjmf2MJrflUf",
        "outputId": "3a84a1d3-52df-457f-b5db-847514687b76"
      },
      "execution_count": 3,
      "outputs": [
        {
          "output_type": "stream",
          "name": "stdout",
          "text": [
            "Data sebelum dibersihkan:\n",
            "ITERA\n",
            "Friends!\n",
            "Angkatan 2022\n",
            "Semangat terus, ya!\n",
            "\n",
            "Data setelah dibersihkan:\n",
            "ITERA\n",
            "FRIENDS!\n",
            "ANGKATAN 2022\n",
            "SEMANGAT TERUS, YA!\n"
          ]
        }
      ]
    },
    {
      "cell_type": "markdown",
      "source": [
        "##**Menghilangkan Karakter Non-Alfanumerik**"
      ],
      "metadata": {
        "id": "rVTWAzi7TFU4"
      }
    },
    {
      "cell_type": "code",
      "source": [
        "del_nonalfanumerik = lambda data: list(map(lambda x: ''.join(filter(str.isalnum, x)), data))\n",
        "\n",
        "# inputan data\n",
        "my_data = [\" ITERA \", \"  Friends!\", \"Angkatan  2022  \", \"Semangat terus,  ya!\"]\n",
        "\n",
        "# membersihkan data\n",
        "data_bersih = del_nonalfanumerik(my_data)\n",
        "\n",
        "# output\n",
        "print(\"Data sebelum dibersihkan:\")\n",
        "for x in my_data:\n",
        "  print(x)\n",
        "print(\"\\nData setelah dibersihkan:\")\n",
        "for x in data_bersih:\n",
        "  print(x)"
      ],
      "metadata": {
        "colab": {
          "base_uri": "https://localhost:8080/"
        },
        "id": "GxfuT1WdS9yD",
        "outputId": "ea4c8859-4125-4ca1-b33a-fb07c4eda0cc"
      },
      "execution_count": 4,
      "outputs": [
        {
          "output_type": "stream",
          "name": "stdout",
          "text": [
            "Data sebelum dibersihkan:\n",
            " ITERA \n",
            "  Friends!\n",
            "Angkatan  2022  \n",
            "Semangat terus,  ya!\n",
            "\n",
            "Data setelah dibersihkan:\n",
            "ITERA\n",
            "Friends\n",
            "Angkatan2022\n",
            "Semangatterusya\n"
          ]
        }
      ]
    }
  ]
}
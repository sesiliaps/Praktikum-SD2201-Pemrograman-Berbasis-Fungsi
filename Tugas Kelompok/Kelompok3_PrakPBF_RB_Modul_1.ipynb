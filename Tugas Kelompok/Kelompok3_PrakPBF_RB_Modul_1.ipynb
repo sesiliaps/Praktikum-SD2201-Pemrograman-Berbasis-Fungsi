{
  "nbformat": 4,
  "nbformat_minor": 0,
  "metadata": {
    "colab": {
      "provenance": []
    },
    "kernelspec": {
      "name": "python3",
      "display_name": "Python 3"
    },
    "language_info": {
      "name": "python"
    }
  },
  "cells": [
    {
      "cell_type": "markdown",
      "source": [
        "#**TUGAS KELOMPOK PRAKTIKUM PBF RB**"
      ],
      "metadata": {
        "id": "FvmWAXlnhcZx"
      }
    },
    {
      "cell_type": "markdown",
      "source": [
        "##**Kelompok 3 Praktikum PBF RB**\n",
        "Anggota Kelompok :\n",
        "1. Deva Anjani Khayyuninafsyah (122450014)\n",
        "2. Nabiilah Putri Karnaia (122450029)\n",
        "3. Chevando Daffa Pramanda (122450095)\n",
        "4. Novelia Adinda (122450104)\n",
        "5. Rafly Prabu Darmawan (122450140)"
      ],
      "metadata": {
        "id": "5sk7sY-BhcQB"
      }
    },
    {
      "cell_type": "markdown",
      "source": [
        "##**Nomor 1**\n",
        "Buatlah fungsi komposisi dengan nilai\n",
        "\n",
        "f(x) = 4^x, g(x) = x^x\n",
        "\n",
        "h(x) = 3 + x\n",
        "\n",
        "dengan pemrograman prosedural tiga fungsi dan pemrograman fungsional dengan lambda."
      ],
      "metadata": {
        "id": "oLBZaj50jKc-"
      }
    },
    {
      "cell_type": "code",
      "execution_count": 125,
      "metadata": {
        "colab": {
          "base_uri": "https://localhost:8080/"
        },
        "id": "DZroMgZmYHZp",
        "outputId": "ab6005ce-71cb-4931-e7ee-a5673e5d4790"
      },
      "outputs": [
        {
          "output_type": "stream",
          "name": "stdout",
          "text": [
            "Hasil : 7.0\n",
            "Waktu : 0.000105858 detik.\n"
          ]
        }
      ],
      "source": [
        "# Pemrograman Prosedural dengan 3 Fungsi\n",
        "\n",
        "import time\n",
        "\n",
        "def f(x):\n",
        "    return 4 ** x\n",
        "\n",
        "def g(x):\n",
        "    return x ** x\n",
        "\n",
        "def h(x):\n",
        "    return 3 + x\n",
        "\n",
        "start_time = time.time()\n",
        "\n",
        "# Contoh Pengaplikasian\n",
        "x = 0.5\n",
        "fungsi_komposisi = h(g(f(x)))\n",
        "\n",
        "end_time = time.time()\n",
        "\n",
        "elapsed_time = end_time - start_time\n",
        "\n",
        "hasil = fungsi_komposisi\n",
        "print(\"Hasil :\", hasil)\n",
        "print(f\"Waktu : {elapsed_time:.9f} detik.\")"
      ]
    },
    {
      "cell_type": "code",
      "source": [
        "# Pemrograman Fungsional dengan Lambda\n",
        "\n",
        "import time\n",
        "\n",
        "f = lambda x: 4**x\n",
        "g = lambda x: x**x\n",
        "h = lambda x: 3 + x\n",
        "\n",
        "fungsi_komposisi = lambda x: h(g(f(x)))\n",
        "\n",
        "start_time = time.time()\n",
        "\n",
        "# Contoh Pengaplikasian\n",
        "x = 0.5\n",
        "fungsi_komposisi = h(g(f(x)))\n",
        "\n",
        "end_time = time.time()\n",
        "\n",
        "elapsed_time = end_time - start_time\n",
        "\n",
        "print(\"Hasil :\", fungsi_komposisi)\n",
        "print(f\"Waktu : {elapsed_time:.9f} detik.\")"
      ],
      "metadata": {
        "colab": {
          "base_uri": "https://localhost:8080/"
        },
        "id": "hakEhr-xlHjv",
        "outputId": "3cff2070-409c-49a0-9eec-0f7a003e6c10"
      },
      "execution_count": 126,
      "outputs": [
        {
          "output_type": "stream",
          "name": "stdout",
          "text": [
            "Hasil : 7.0\n",
            "Waktu : 0.000082254 detik.\n"
          ]
        }
      ]
    },
    {
      "cell_type": "markdown",
      "source": [
        "##**Nomor 2**\n",
        "Buatlah pemrograman berbasis objek pada soal no. 1."
      ],
      "metadata": {
        "id": "TghKudjsldoA"
      }
    },
    {
      "cell_type": "code",
      "source": [
        "import time\n",
        "\n",
        "class FungsiKomposisi:\n",
        "  def __init__(self, formula):\n",
        "    self.formula = formula\n",
        "\n",
        "  def __call__(self, x):\n",
        "    return eval(self.formula, {\"x\": x})\n",
        "\n",
        "f = FungsiKomposisi(\"4**x\")\n",
        "g = FungsiKomposisi(\"x**x\")\n",
        "h = FungsiKomposisi(\"3 + x\")\n",
        "\n",
        "start_time = time.time()\n",
        "\n",
        "# Contoh Pengaplikasian\n",
        "x = 0.5\n",
        "fungsi_komposisi = h(g(f(x)))\n",
        "\n",
        "end_time = time.time()\n",
        "\n",
        "elapsed_time = end_time - start_time\n",
        "\n",
        "print(\"Hasil :\", fungsi_komposisi)\n",
        "print(f\"Waktu : {elapsed_time:.9f} detik.\")"
      ],
      "metadata": {
        "colab": {
          "base_uri": "https://localhost:8080/"
        },
        "id": "AuohkDjkllHE",
        "outputId": "0744d5e4-4ce1-4341-9dc3-7aff9ac79def"
      },
      "execution_count": 127,
      "outputs": [
        {
          "output_type": "stream",
          "name": "stdout",
          "text": [
            "Hasil : 7.0\n",
            "Waktu : 0.000175953 detik.\n"
          ]
        }
      ]
    },
    {
      "cell_type": "markdown",
      "source": [
        "##**Nomor 3**\n",
        "Berikan analisis komparasi soal 1 dan 2.\n",
        "\n",
        "Jawab:\n",
        "\n",
        "Dari kode pemrograman yang telah dibuat pada nomor 1 dan 2, didapatkan:\n",
        "1. Waktu Eksekusi Pemrograman Prosedural = 0.000105858 detik.\n",
        "2. Waktu Eksekusi Pemrograman Fungsional = 0.000082254 detik.\n",
        "3. Waktu Eksekusi OOP = 0.000175953 detik.\n",
        "\n",
        "Sudah jelas dapat disimpulkan bahwa pemrograman fungsional dengan lambda berjalan lebih cepat dibandingkan kedua pemrograman lainnya.\n",
        "\n",
        "Jika diperhatikan dengan lebih seksama, melalui modul 'time' ini dapat diketahui bahwa waktu eksekusi antara pemrograman prosedural, lambda, dan OOP memiliki nilai yang tidak jauh berbeda. Pada dasarnya, ketika program dijalankan, nilai waktu eksekusi dari ketika pemrograman tersebut akan menghasilkan nilai yang berbeda-beda.\n",
        "\n",
        "Akan tetapi, dengan selisih perbedaan yang ada dapat diketahui pula bahwa, sebagian besar, pemrograman fungsional dengan lambda memiliki waktu eksekusi yang lebih cepat dibandingkan dengan pemrograman prosedural dan OOP."
      ],
      "metadata": {
        "id": "Jd78MsL1lreq"
      }
    },
    {
      "cell_type": "markdown",
      "source": [
        "##**Nomor 4**\n",
        "Buatlah satu penyelesaian luas segitiga dengan menggunakan pemrograman berorientasi objek dan pemrograman berbasis fungsi. Uji dengan membandingkan mana yang tercepat komputasinya."
      ],
      "metadata": {
        "id": "FcsK4mYklxQe"
      }
    },
    {
      "cell_type": "code",
      "source": [
        "# Pemrograman Berorientasi Objek (PBO)\n",
        "\n",
        "import time\n",
        "\n",
        "class Segitiga:\n",
        "    def __init__(self, alas, tinggi):\n",
        "        self.alas = alas\n",
        "        self.tinggi = tinggi\n",
        "\n",
        "    def hitung_luas(self):\n",
        "        return 0.5 * self.alas * self.tinggi\n",
        "\n",
        "start_time = time.time()\n",
        "\n",
        "# Contoh Pengaplikasian\n",
        "alas = 18\n",
        "tinggi = 9\n",
        "segitiga = Segitiga(alas, tinggi)\n",
        "luas = segitiga.hitung_luas()\n",
        "\n",
        "end_time = time.time()\n",
        "\n",
        "elapsed_time = end_time - start_time\n",
        "\n",
        "print(f\"Luas segitiga: {luas1} satuan luas.\")\n",
        "print(f\"Waktu: {elapsed_time:.9f} detik.\")"
      ],
      "metadata": {
        "id": "-umG50fil-wo",
        "colab": {
          "base_uri": "https://localhost:8080/"
        },
        "outputId": "e7ac2848-a10a-454f-cb24-b19ed92a8bff"
      },
      "execution_count": 129,
      "outputs": [
        {
          "output_type": "stream",
          "name": "stdout",
          "text": [
            "Luas segitiga: 81.0 satuan luas.\n",
            "Waktu: 0.000207424 detik.\n"
          ]
        }
      ]
    },
    {
      "cell_type": "code",
      "source": [
        "# Pemrograman Berorientasi Fungsi (PBF)\n",
        "\n",
        "import time\n",
        "\n",
        "def luas_segitiga(alas, tinggi):\n",
        "    return 0.5 * alas * tinggi\n",
        "\n",
        "start_time = time.time()\n",
        "\n",
        "# Contoh Pengaplikasian\n",
        "alas = 12\n",
        "tinggi = 6\n",
        "luas = luas_segitiga(alas, tinggi)\n",
        "\n",
        "end_time = time.time()\n",
        "\n",
        "elapsed_time = end_time - start_time\n",
        "\n",
        "print(f\"Luas segitiga: {luas2} satuan luas.\")\n",
        "print(f\"Waktu: {elapsed_time:.9f} detik.\")"
      ],
      "metadata": {
        "id": "Xjw2hwyKmGKE",
        "colab": {
          "base_uri": "https://localhost:8080/"
        },
        "outputId": "a9f6f24b-5e75-45d2-918c-d969de7352ac"
      },
      "execution_count": 128,
      "outputs": [
        {
          "output_type": "stream",
          "name": "stdout",
          "text": [
            "Luas segitiga: 36.0 satuan luas.\n",
            "Waktu: 0.000165939 detik.\n"
          ]
        }
      ]
    },
    {
      "cell_type": "markdown",
      "source": [
        "Dari kedua kode pemrograman di atas, didapatkan:\n",
        "1. Waktu Eksekusi Pemrograman Berorientasi Objek = 0.000207424 detik.\n",
        "2. Waktu Eksekusi Pemrograman Berorientasi Fungsi = 0.000165939 detik.\n",
        "\n",
        "Sudah jelas dapat disimpulkan bahwa pemrograman berbasis fungsi memiliki waktu eksekusi yang lebih cepat daripada pemrograman berorientasi objek."
      ],
      "metadata": {
        "id": "YcF87MyCRprX"
      }
    },
    {
      "cell_type": "markdown",
      "source": [
        "##**Nomor 5**\n",
        "\n",
        "Diberikan Algoritma Metode Bisection berikut:\n",
        "1. Start\n",
        "2. Define function f(x)\n",
        "3. Choose initial guesses x0 and x1 such that f(x0)f(x1) < 0\n",
        "4. Choose pre-specified tolarabe error e\n",
        "5. Calculate new approximated root as x2 = (x0 + x1)/2\n",
        "6. Calculate f(x0)f(x2)\\\n",
        "    a. if f(x0)f(x2) < 0 then x0 = x0 and x1 = x2\\\n",
        "    b. if f(x0)f(x2) > 0 then x0 = x2 and x1 = x1\\\n",
        "    c. if f(x0)f(x2) = 0 then go to (8)\n",
        "7. if |f(x2)| > e then go to (5) otherwise go to (8)\n",
        "8. Display x2 as root\n",
        "9. Stop\n",
        "\n",
        "Buatlah prosedural programming dari persoalan di atas dan ubahlah dengan functional programming. Lakukan dengan batas toleransi 10^-5. Dengan fungsi yang diberikan sebagai berikut: x - 2^x\n",
        "dan nilai a dan b adalah di antara 0 dan 1 (nilai antara tidak boleh 0 dan 1)."
      ],
      "metadata": {
        "id": "x_iRanK-KqWl"
      }
    },
    {
      "cell_type": "code",
      "source": [
        "# Pemrograman Prosedural\n",
        "\n",
        "def f(x):\n",
        "    return x - 2 ** x\n",
        "\n",
        "def biseksi(f, x0, x1, tol):\n",
        "    if f(x0) * f(x1) > 0:\n",
        "      print(\"Tidak ada akar yang berada di antara x0 dan x1.\")\n",
        "      return None\n",
        "    x2 = (x0 + x1) / 2\n",
        "    while abs(x2) < tol:\n",
        "        if  f(x0) * f(x2) < 0:\n",
        "            x1 = x2\n",
        "        elif f(x0) * f(x2) > 0:\n",
        "            x0 = x2\n",
        "        else:\n",
        "          return x2\n",
        "    return x2\n",
        "\n",
        "print(biseksi(f, 0.25, 0.9, 0.00001))"
      ],
      "metadata": {
        "colab": {
          "base_uri": "https://localhost:8080/"
        },
        "id": "LDx_V7XyYPis",
        "outputId": "6843588c-219e-4ecb-c78d-a5c479e4fc73"
      },
      "execution_count": 153,
      "outputs": [
        {
          "output_type": "stream",
          "name": "stdout",
          "text": [
            "Tidak ada akar yang berada di antara x0 dan x1.\n",
            "None\n"
          ]
        }
      ]
    },
    {
      "cell_type": "code",
      "source": [
        "# Pemrograman Fungsional\n",
        "\n",
        "biseksi = (lambda f, x0, x1, tol:\n",
        "    (lambda x0, x1:\n",
        "        (lambda x2:\n",
        "            x2 if abs(f(x2)) < tol else\n",
        "            x0 if f(x0) * f(x2) < 0 else\n",
        "            x1 if f(x0) * f(x2) > 0 else\n",
        "            x2)(\n",
        "            (x0 + x1) / 2\n",
        "        )\n",
        "    )(x0, x1) if f(x0) * f(x1) < 0 else (\n",
        "        print(\"Tidak ada akar yang berada di antara x0 dan x1.\") or None\n",
        "    )\n",
        ")\n",
        "\n",
        "print(biseksi(lambda x: x - 2 ** x, 0.25, 0.9, 0.00001))"
      ],
      "metadata": {
        "colab": {
          "base_uri": "https://localhost:8080/"
        },
        "id": "rm_Z2FpwaVdP",
        "outputId": "dc1500b8-a082-4e0d-a4d7-8c1849a29ce8"
      },
      "execution_count": 164,
      "outputs": [
        {
          "output_type": "stream",
          "name": "stdout",
          "text": [
            "Tidak ada akar yang berada di antara x0 dan x1.\n",
            "None\n"
          ]
        }
      ]
    }
  ]
}
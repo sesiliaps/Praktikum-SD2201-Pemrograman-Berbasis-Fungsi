{
  "nbformat": 4,
  "nbformat_minor": 0,
  "metadata": {
    "colab": {
      "provenance": []
    },
    "kernelspec": {
      "name": "python3",
      "display_name": "Python 3"
    },
    "language_info": {
      "name": "python"
    }
  },
  "cells": [
    {
      "cell_type": "markdown",
      "source": [
        "**Pengaplikasian Pengolah Teks Menggunakan Fungsi Map dan Fungsi Lambda**\n",
        "\n",
        "Praktikum PBF RA | Kelompok 2\n",
        "\n",
        "1. Sesilia Putri Subandi_122450012\n",
        "2. Jaclin Alcavella_122450015\n",
        "3. Renta Siahaan_122450070\n",
        "4. Chalifia Wananda_122450076\n",
        "5. Rut Junita Sari Siburian_122450103"
      ],
      "metadata": {
        "id": "cHpluHeSiQwB"
      }
    },
    {
      "cell_type": "code",
      "source": [
        "def hitung_kata(teks):\n",
        "  kata_kata = teks.strip().split()\n",
        "  jumlah_kata = sum(map(lambda kata: 1, kata_kata))\n",
        "  return jumlah_kata\n",
        "\n",
        "def ganti_kata(teks, kata_lama, kata_baru):\n",
        "  kata_kata = teks.split()\n",
        "  teks_baru = ' '.join(map(lambda kata: kata_baru if kata == kata_lama else kata, kata_kata))\n",
        "  return teks_baru\n",
        "\n",
        "def main():\n",
        "  print(\"\"\"Selamat Datang di Mesin Ketik Mini. \\n\\nSilakan ketikan teks Anda.\\n\"\"\")\n",
        "\n",
        "  teks = input()\n",
        "\n",
        "  jumlah_kata = hitung_kata(teks)\n",
        "  print(f\"\\nJumlah kata: {jumlah_kata}\")\n",
        "\n",
        "  while True:\n",
        "    answer = input(\"\\nApakah Anda ingin melakukan perubahan kata? (y/n) \")\n",
        "\n",
        "    if answer == \"y\":\n",
        "      kata_lama = input(\"\\nMasukkan kata yang ingin diganti: \")\n",
        "      kata_baru = input(\"\\nMasukkan kata pengganti: \")\n",
        "      teks_baru = ganti_kata(teks, kata_lama, kata_baru)\n",
        "      print(f\"\\n{teks_baru}\")\n",
        "    elif answer == \"n\":\n",
        "      print(\"\\nTerima kasih sudah menggunakan mesin ketik mini. Sampai jumpa.\")\n",
        "      break\n",
        "    else:\n",
        "      pass\n",
        "\n",
        "if __name__ == \"__main__\":\n",
        "  main()"
      ],
      "metadata": {
        "colab": {
          "base_uri": "https://localhost:8080/"
        },
        "id": "8l8b9loKp_qy",
        "outputId": "e26d5f1c-e26c-4b7f-fb18-4755618031dd"
      },
      "execution_count": null,
      "outputs": [
        {
          "output_type": "stream",
          "name": "stdout",
          "text": [
            "Selamat Datang di Mesin Ketik Mini. \n",
            "\n",
            "Silakan ketikan teks Anda.\n",
            "\n",
            "Halo semuanya. Perkenalkan nama saya Sesilia Putri Subandi. Umur saya 20 tahun. Saat ini saya sedang menempuh oendidikan di Institut Teknologi Sumatera.\n",
            "\n",
            "Jumlah kata: 22\n",
            "\n",
            "Apakah Anda ingin melakukan perubahan kata? (y/n) y\n",
            "\n",
            "Masukkan kata yang ingin diganti: oendidikan\n",
            "\n",
            "Masukkan kata pengganti: pendidikan\n",
            "\n",
            "Halo semuanya. Perkenalkan nama saya Sesilia Putri Subandi. Umur saya 20 tahun. Saat ini saya sedang menempuh pendidikan di Institut Teknologi Sumatera.\n",
            "\n",
            "Apakah Anda ingin melakukan perubahan kata? (y/n) n\n",
            "\n",
            "Terima kasih sudah menggunakan mesin ketik mini. Sampai jumpa.\n"
          ]
        }
      ]
    }
  ]
}